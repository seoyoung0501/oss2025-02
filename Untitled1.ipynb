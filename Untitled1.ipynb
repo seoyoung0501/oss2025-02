{
  "nbformat": 4,
  "nbformat_minor": 0,
  "metadata": {
    "colab": {
      "provenance": [],
      "authorship_tag": "ABX9TyNjTVpWaAg6PgJ3WRvEvOEy",
      "include_colab_link": true
    },
    "kernelspec": {
      "name": "python3",
      "display_name": "Python 3"
    },
    "language_info": {
      "name": "python"
    }
  },
  "cells": [
    {
      "cell_type": "markdown",
      "metadata": {
        "id": "view-in-github",
        "colab_type": "text"
      },
      "source": [
        "<a href=\"https://colab.research.google.com/github/seoyoung0501/oss2025-02/blob/main/Untitled1.ipynb\" target=\"_parent\"><img src=\"https://colab.research.google.com/assets/colab-badge.svg\" alt=\"Open In Colab\"/></a>"
      ]
    },
    {
      "cell_type": "code",
      "execution_count": 7,
      "metadata": {
        "colab": {
          "base_uri": "https://localhost:8080/",
          "height": 106
        },
        "id": "hkiGfsjhfuAF",
        "outputId": "8afda3f5-cbb8-4a70-e968-043d1f2d6c48"
      },
      "outputs": [
        {
          "output_type": "error",
          "ename": "SyntaxError",
          "evalue": "invalid syntax (<ipython-input-7-4eb7203fcb35>, line 7)",
          "traceback": [
            "\u001b[0;36m  File \u001b[0;32m\"<ipython-input-7-4eb7203fcb35>\"\u001b[0;36m, line \u001b[0;32m7\u001b[0m\n\u001b[0;31m    assert x+1 + == y, \"test failed\"\u001b[0m\n\u001b[0m                 ^\u001b[0m\n\u001b[0;31mSyntaxError\u001b[0m\u001b[0;31m:\u001b[0m invalid syntax\n"
          ]
        }
      ],
      "source": [
        "from re import X\n",
        "%%writefile test_sample.py\n",
        "import pytest\n",
        "def  test_filed_method1() :\n",
        "  x = 5\n",
        "  y = 6\n",
        "  assert x+1 + == y, \"test failed\"\n",
        "  assert x == y, \"test failed\"\n",
        "def test_filed1_method2() :\n",
        "  x=5\n",
        "  y=6\n",
        "  assert x+1 == y, \"test failed\"\n",
        "\n",
        "import pytest\n",
        "@pytest.fixture\n",
        "def supply_AA_BB_CC():\n",
        "  aa = 25\n",
        "  bb = 35\n",
        "  cc = 45\n",
        "  return [aa,bb,cc]\n",
        "\n",
        "def test_comparewithAA(supply_AA_BB_CC)\n",
        " zz = 35\n",
        " assert supply_AA_BB_CC[0]==zz, \"aa and zz comparison failed\"\n",
        "\n",
        "def test_comparewithAA(supply_AA_BB_CC)\n",
        " zz = 35\n",
        " assert supply_AA_BB_CC[1]==zz, \"aa and zz comparison failed\"\n",
        "\n",
        " def test_comparewithAA(supply_AA_BB_CC)\n",
        " zz = 35\n",
        " assert supply_AA_BB_CC[2]==zz, \"aa and zz comparison failed\"\n",
        "\n",
        " @logging\n",
        " @put_item\n",
        " def buy item (x)\n",
        "\n",
        "def my_func(x):\n",
        "  return x**X\n",
        "\n",
        "def print_user(name):\n",
        "  print(name)\n",
        "\n",
        "def composite_func(func,x, name) :\n",
        "  print user(name)\n",
        "  func (x)\n"
      ]
    }
  ]
}